{
 "cells": [
  {
   "cell_type": "markdown",
   "metadata": {},
   "source": [
    "# Метрики качества классификации"
   ]
  },
  {
   "cell_type": "markdown",
   "metadata": {},
   "source": [
    "## 1. Данные"
   ]
  },
  {
   "cell_type": "code",
   "execution_count": 74,
   "metadata": {
    "ExecuteTime": {
     "end_time": "2020-06-22T05:46:56.125515Z",
     "start_time": "2020-06-22T05:46:56.120662Z"
    }
   },
   "outputs": [],
   "source": [
    "import numpy as np\n",
    "import pandas as pd\n",
    "\n",
    "from matplotlib import pyplot as plt\n",
    "%matplotlib inline\n",
    "import seaborn as sns"
   ]
  },
  {
   "cell_type": "code",
   "execution_count": 75,
   "metadata": {
    "ExecuteTime": {
     "end_time": "2020-06-22T05:46:56.789636Z",
     "start_time": "2020-06-22T05:46:56.786909Z"
    }
   },
   "outputs": [],
   "source": [
    "from sklearn.model_selection import train_test_split"
   ]
  },
  {
   "cell_type": "code",
   "execution_count": 76,
   "metadata": {
    "ExecuteTime": {
     "end_time": "2020-06-22T05:47:01.575387Z",
     "start_time": "2020-06-22T05:47:01.473185Z"
    }
   },
   "outputs": [],
   "source": [
    "X = pd.read_pickle('data/shelter/xtrain.pkl')\n",
    "y = pd.read_csv('data/shelter/train.csv')['OutcomeType']"
   ]
  },
  {
   "cell_type": "markdown",
   "metadata": {},
   "source": [
    "для учебных примеров оставим только 2 класса, отличающихся значительно и по смыслу, и по размеру"
   ]
  },
  {
   "cell_type": "code",
   "execution_count": 77,
   "metadata": {
    "ExecuteTime": {
     "end_time": "2020-06-22T05:47:03.686474Z",
     "start_time": "2020-06-22T05:47:03.675252Z"
    }
   },
   "outputs": [
    {
     "data": {
      "text/plain": [
       "Adoption           10769\n",
       "Transfer            9422\n",
       "Return_to_owner     4786\n",
       "Euthanasia          1555\n",
       "Died                 197\n",
       "Name: OutcomeType, dtype: int64"
      ]
     },
     "execution_count": 77,
     "metadata": {},
     "output_type": "execute_result"
    }
   ],
   "source": [
    "y.value_counts()"
   ]
  },
  {
   "cell_type": "code",
   "execution_count": 78,
   "metadata": {
    "ExecuteTime": {
     "end_time": "2020-06-22T05:47:04.540112Z",
     "start_time": "2020-06-22T05:47:04.530997Z"
    }
   },
   "outputs": [],
   "source": [
    "is_first_2_class = (y=='Adoption')|(y=='Euthanasia')"
   ]
  },
  {
   "cell_type": "code",
   "execution_count": 79,
   "metadata": {},
   "outputs": [
    {
     "data": {
      "text/plain": [
       "0        False\n",
       "1         True\n",
       "2         True\n",
       "3        False\n",
       "4        False\n",
       "         ...  \n",
       "26724    False\n",
       "26725    False\n",
       "26726     True\n",
       "26727    False\n",
       "26728    False\n",
       "Name: OutcomeType, Length: 26729, dtype: bool"
      ]
     },
     "execution_count": 79,
     "metadata": {},
     "output_type": "execute_result"
    }
   ],
   "source": [
    "is_first_2_class"
   ]
  },
  {
   "cell_type": "code",
   "execution_count": 80,
   "metadata": {},
   "outputs": [
    {
     "data": {
      "text/plain": [
       "0        Return_to_owner\n",
       "1             Euthanasia\n",
       "2               Adoption\n",
       "3               Transfer\n",
       "4               Transfer\n",
       "              ...       \n",
       "26724           Transfer\n",
       "26725           Transfer\n",
       "26726           Adoption\n",
       "26727           Transfer\n",
       "26728           Transfer\n",
       "Name: OutcomeType, Length: 26729, dtype: object"
      ]
     },
     "execution_count": 80,
     "metadata": {},
     "output_type": "execute_result"
    }
   ],
   "source": [
    "y"
   ]
  },
  {
   "cell_type": "code",
   "execution_count": 81,
   "metadata": {
    "ExecuteTime": {
     "end_time": "2020-06-22T05:47:05.300786Z",
     "start_time": "2020-06-22T05:47:05.289972Z"
    }
   },
   "outputs": [],
   "source": [
    "X = X[is_first_2_class]\n",
    "X.index = range(len(X))\n",
    "y = y[is_first_2_class]\n",
    "y.index = range(len(y))"
   ]
  },
  {
   "cell_type": "markdown",
   "metadata": {},
   "source": [
    "y теперь можно перевести в множество {0,1}"
   ]
  },
  {
   "cell_type": "code",
   "execution_count": 82,
   "metadata": {
    "ExecuteTime": {
     "end_time": "2020-06-22T05:47:07.621635Z",
     "start_time": "2020-06-22T05:47:07.616882Z"
    }
   },
   "outputs": [],
   "source": [
    "y = (y=='Adoption').astype(int)"
   ]
  },
  {
   "cell_type": "markdown",
   "metadata": {},
   "source": [
    "для оценки качества разобьём выборки на 2 части, 3:1"
   ]
  },
  {
   "cell_type": "code",
   "execution_count": 83,
   "metadata": {
    "ExecuteTime": {
     "end_time": "2020-06-22T05:47:09.288396Z",
     "start_time": "2020-06-22T05:47:09.272179Z"
    }
   },
   "outputs": [],
   "source": [
    "Xtr, Xval, ytr, yval = train_test_split(X, y, test_size=0.25)"
   ]
  },
  {
   "cell_type": "markdown",
   "metadata": {},
   "source": [
    "-----"
   ]
  },
  {
   "cell_type": "markdown",
   "metadata": {},
   "source": [
    "## 2. Обучим классификатор"
   ]
  },
  {
   "cell_type": "code",
   "execution_count": 84,
   "metadata": {
    "ExecuteTime": {
     "end_time": "2020-06-22T05:47:11.921289Z",
     "start_time": "2020-06-22T05:47:11.894068Z"
    }
   },
   "outputs": [],
   "source": [
    "from sklearn.tree import DecisionTreeClassifier"
   ]
  },
  {
   "cell_type": "code",
   "execution_count": 85,
   "metadata": {
    "ExecuteTime": {
     "end_time": "2020-06-22T05:47:12.308467Z",
     "start_time": "2020-06-22T05:47:12.305608Z"
    }
   },
   "outputs": [],
   "source": [
    "clf = DecisionTreeClassifier(max_depth=5)"
   ]
  },
  {
   "cell_type": "code",
   "execution_count": 86,
   "metadata": {
    "ExecuteTime": {
     "end_time": "2020-06-22T05:47:12.796192Z",
     "start_time": "2020-06-22T05:47:12.771893Z"
    }
   },
   "outputs": [
    {
     "data": {
      "text/plain": [
       "DecisionTreeClassifier(max_depth=5)"
      ]
     },
     "execution_count": 86,
     "metadata": {},
     "output_type": "execute_result"
    }
   ],
   "source": [
    "clf.fit(Xtr, ytr)"
   ]
  },
  {
   "cell_type": "code",
   "execution_count": 87,
   "metadata": {
    "ExecuteTime": {
     "end_time": "2020-06-22T05:47:14.709290Z",
     "start_time": "2020-06-22T05:47:14.703132Z"
    }
   },
   "outputs": [],
   "source": [
    "yval_pred = clf.predict(Xval)\n",
    "yval_pred_proba = clf.predict_proba(Xval)"
   ]
  },
  {
   "cell_type": "markdown",
   "metadata": {},
   "source": [
    "-----"
   ]
  },
  {
   "cell_type": "markdown",
   "metadata": {},
   "source": [
    "## 3. Написание метрик с нуля"
   ]
  },
  {
   "cell_type": "code",
   "execution_count": 88,
   "metadata": {
    "ExecuteTime": {
     "end_time": "2020-06-22T05:47:17.184728Z",
     "start_time": "2020-06-22T05:47:17.182017Z"
    }
   },
   "outputs": [],
   "source": [
    "from sklearn import metrics"
   ]
  },
  {
   "cell_type": "markdown",
   "metadata": {},
   "source": [
    "-----"
   ]
  },
  {
   "cell_type": "code",
   "execution_count": 89,
   "metadata": {
    "ExecuteTime": {
     "end_time": "2020-06-22T05:48:53.519168Z",
     "start_time": "2020-06-22T05:48:53.510208Z"
    },
    "scrolled": true
   },
   "outputs": [
    {
     "data": {
      "text/plain": [
       "array([[ 248,  156],\n",
       "       [  22, 2655]])"
      ]
     },
     "execution_count": 89,
     "metadata": {},
     "output_type": "execute_result"
    }
   ],
   "source": [
    "metrics.confusion_matrix(yval, yval_pred)"
   ]
  },
  {
   "cell_type": "code",
   "execution_count": 90,
   "metadata": {
    "ExecuteTime": {
     "end_time": "2020-06-22T05:49:39.568544Z",
     "start_time": "2020-06-22T05:49:39.562971Z"
    },
    "scrolled": true
   },
   "outputs": [
    {
     "data": {
      "text/plain": [
       "0.9422265498214866"
      ]
     },
     "execution_count": 90,
     "metadata": {},
     "output_type": "execute_result"
    }
   ],
   "source": [
    "metrics.accuracy_score(yval, yval_pred)"
   ]
  },
  {
   "cell_type": "code",
   "execution_count": 91,
   "metadata": {
    "ExecuteTime": {
     "end_time": "2020-06-22T05:50:01.004347Z",
     "start_time": "2020-06-22T05:50:00.997457Z"
    },
    "scrolled": true
   },
   "outputs": [
    {
     "data": {
      "text/plain": [
       "0.9445037353255069"
      ]
     },
     "execution_count": 91,
     "metadata": {},
     "output_type": "execute_result"
    }
   ],
   "source": [
    "metrics.precision_score(yval, yval_pred)"
   ]
  },
  {
   "cell_type": "code",
   "execution_count": 92,
   "metadata": {
    "ExecuteTime": {
     "end_time": "2020-06-22T05:50:11.664355Z",
     "start_time": "2020-06-22T05:50:11.658026Z"
    }
   },
   "outputs": [
    {
     "data": {
      "text/plain": [
       "0.9917818453492716"
      ]
     },
     "execution_count": 92,
     "metadata": {},
     "output_type": "execute_result"
    }
   ],
   "source": [
    "metrics.recall_score(yval, yval_pred)"
   ]
  },
  {
   "cell_type": "code",
   "execution_count": 93,
   "metadata": {
    "ExecuteTime": {
     "end_time": "2020-06-22T05:47:49.360086Z",
     "start_time": "2020-06-22T05:47:49.347912Z"
    }
   },
   "outputs": [
    {
     "data": {
      "text/plain": [
       "0.9349422288138415"
      ]
     },
     "execution_count": 93,
     "metadata": {},
     "output_type": "execute_result"
    }
   ],
   "source": [
    "metrics.roc_auc_score(yval, yval_pred_proba[:,1]) #сюда подаем только вероятнсоти принадлежности первому классу, нулевой не нужен"
   ]
  },
  {
   "cell_type": "code",
   "execution_count": 94,
   "metadata": {
    "ExecuteTime": {
     "end_time": "2020-06-22T05:47:49.582626Z",
     "start_time": "2020-06-22T05:47:49.575435Z"
    },
    "scrolled": true
   },
   "outputs": [
    {
     "data": {
      "text/plain": [
       "0.984415913178139"
      ]
     },
     "execution_count": 94,
     "metadata": {},
     "output_type": "execute_result"
    }
   ],
   "source": [
    "metrics.average_precision_score(yval, yval_pred_proba[:,1])"
   ]
  },
  {
   "cell_type": "markdown",
   "metadata": {},
   "source": [
    "## Реализовать самостоятельно вывод графика ROC-AUC"
   ]
  },
  {
   "cell_type": "code",
   "execution_count": 155,
   "metadata": {
    "ExecuteTime": {
     "end_time": "2020-06-22T05:51:07.118935Z",
     "start_time": "2020-06-22T05:51:07.112668Z"
    }
   },
   "outputs": [],
   "source": [
    "%matplotlib inline\n",
    "import matplotlib.pyplot as plt"
   ]
  },
  {
   "cell_type": "markdown",
   "metadata": {},
   "source": [
    "Задание 0:\n",
    "======\n",
    "Посчитать tpr и fpr в ноутбуке с лекции. Убедиться, что график ROC AUC получается таким же, как и штатными средствами"
   ]
  },
  {
   "cell_type": "code",
   "execution_count": 141,
   "metadata": {
    "ExecuteTime": {
     "end_time": "2020-06-22T06:01:51.111329Z",
     "start_time": "2020-06-22T06:01:51.108131Z"
    }
   },
   "outputs": [],
   "source": [
    "def calculate_tpr_and_fpr(y_true, y_pred_probas, alpha):\n",
    "    ## 1. Отнесите  наблюдения к одному  из нескольких классов в зависимости от порога\n",
    "    ## 2. Посчитайте tpr и fpr\n",
    "    TP=0\n",
    "    FP=0\n",
    "    TN=0\n",
    "    FN=0\n",
    "    y_true = np.array(y_true)\n",
    "    for i in range(0,len(y_true)):\n",
    "        \n",
    "        #прогноз\n",
    "        if y_pred_probas[i] > alpha:\n",
    "            prediction = 1\n",
    "        else:\n",
    "            prediction = 0\n",
    "        \n",
    "        # значения матрицы\n",
    "        if (prediction == y_true[i]) & (prediction==1):\n",
    "            TP += 1\n",
    "        elif (prediction != y_true[i]) & (prediction==1):\n",
    "            FP += 1 \n",
    "        elif (prediction == y_true[i]) & (prediction==0):\n",
    "            TN += 1     \n",
    "        elif (prediction != y_true[i]) & (prediction==0):\n",
    "            FN += 1     \n",
    "    # метрики        \n",
    "    tpr = TP / (TP + FN)\n",
    "    fpr = FP / (FP + TN)\n",
    "    \n",
    "    return tpr, fpr"
   ]
  },
  {
   "cell_type": "code",
   "execution_count": 142,
   "metadata": {
    "ExecuteTime": {
     "end_time": "2020-06-22T06:00:19.820622Z",
     "start_time": "2020-06-22T06:00:19.815878Z"
    }
   },
   "outputs": [],
   "source": [
    "def roc_auc_plot(y_true, y_pred_probas):\n",
    "    alphas = np.arange(0, 1, 0.001)\n",
    "    tprs, fprs = [], []\n",
    "    for a in alphas:\n",
    "        tpr, fpr = calculate_tpr_and_fpr(y_true, y_pred_probas, a)\n",
    "        tprs.append(tpr)\n",
    "        fprs.append(fpr)\n",
    "        \n",
    "    plt.plot(fprs, tprs)\n",
    "    plt.show()"
   ]
  },
  {
   "cell_type": "code",
   "execution_count": 143,
   "metadata": {
    "ExecuteTime": {
     "end_time": "2020-06-22T06:00:21.117954Z",
     "start_time": "2020-06-22T06:00:20.180689Z"
    }
   },
   "outputs": [
    {
     "data": {
      "image/png": "[encoded data removed]",
      "text/plain": [
       "<Figure size 432x288 with 1 Axes>"
      ]
     },
     "metadata": {
      "needs_background": "light"
     },
     "output_type": "display_data"
    }
   ],
   "source": [
    "roc_auc_plot(yval, yval_pred_proba[:, 1])"
   ]
  },
  {
   "cell_type": "code",
   "execution_count": 130,
   "metadata": {
    "ExecuteTime": {
     "end_time": "2020-06-22T06:00:06.280594Z",
     "start_time": "2020-06-22T06:00:06.144530Z"
    }
   },
   "outputs": [
    {
     "data": {
      "image/png": "[encoded data removed]",
      "text/plain": [
       "<Figure size 432x288 with 1 Axes>"
      ]
     },
     "metadata": {
      "needs_background": "light"
     },
     "output_type": "display_data"
    }
   ],
   "source": [
    "## SKLEARN\n",
    "fpr, tpr, _ = metrics.roc_curve(yval,  yval_pred_proba[: ,1])\n",
    "plt.plot(fpr,tpr,label=\"data 1\")\n",
    "plt.legend(loc=4)\n",
    "plt.show()"
   ]
  },
  {
   "cell_type": "code",
   "execution_count": 149,
   "metadata": {},
   "outputs": [
    {
     "data": {
      "image/png": "[encoded data removed]",
      "text/plain": [
       "<Figure size 432x288 with 1 Axes>"
      ]
     },
     "metadata": {
      "needs_background": "light"
     },
     "output_type": "display_data"
    }
   ],
   "source": [
    "plt.plot(tpr,label=\"TPR\")\n",
    "plt.legend(loc=4)\n",
    "plt.show()"
   ]
  },
  {
   "cell_type": "code",
   "execution_count": 150,
   "metadata": {},
   "outputs": [
    {
     "data": {
      "image/png": "[encoded data removed]",
      "text/plain": [
       "<Figure size 432x288 with 1 Axes>"
      ]
     },
     "metadata": {
      "needs_background": "light"
     },
     "output_type": "display_data"
    }
   ],
   "source": [
    "plt.plot(fpr,label=\"FPR\")\n",
    "plt.legend(loc=4)\n",
    "plt.show()"
   ]
  },
  {
   "cell_type": "code",
   "execution_count": 153,
   "metadata": {},
   "outputs": [
    {
     "data": {
      "text/plain": [
       "array([0.        , 0.        , 0.49383638, 0.64587225, 0.66305566,\n",
       "       0.94284647, 0.96077699, 0.96824804, 0.97048935, 0.98132238,\n",
       "       0.98356369, 0.99178185, 0.9929025 , 0.99477027, 0.99477027,\n",
       "       0.99477027, 0.99775869, 0.99813224, 0.99813224, 0.99850579,\n",
       "       0.99887934, 1.        , 1.        ])"
      ]
     },
     "execution_count": 153,
     "metadata": {},
     "output_type": "execute_result"
    }
   ],
   "source": [
    "tpr"
   ]
  },
  {
   "cell_type": "code",
   "execution_count": 154,
   "metadata": {},
   "outputs": [
    {
     "data": {
      "text/plain": [
       "array([0.        , 0.00247525, 0.00990099, 0.0470297 , 0.06188119,\n",
       "       0.22029703, 0.23514851, 0.25247525, 0.25247525, 0.30693069,\n",
       "       0.33910891, 0.38613861, 0.3960396 , 0.4009901 , 0.41584158,\n",
       "       0.41831683, 0.51732673, 0.53217822, 0.54207921, 0.59158416,\n",
       "       0.60643564, 0.90346535, 1.        ])"
      ]
     },
     "execution_count": 154,
     "metadata": {},
     "output_type": "execute_result"
    }
   ],
   "source": [
    "fpr"
   ]
  },
  {
   "cell_type": "code",
   "execution_count": null,
   "metadata": {},
   "outputs": [],
   "source": []
  }
 ],
 "metadata": {
  "kernelspec": {
   "display_name": "Python 3",
   "language": "python",
   "name": "python3"
  },
  "language_info": {
   "codemirror_mode": {
    "name": "ipython",
    "version": 3
   },
   "file_extension": ".py",
   "mimetype": "text/x-python",
   "name": "python",
   "nbconvert_exporter": "python",
   "pygments_lexer": "ipython3",
   "version": "3.7.7"
  }
 },
 "nbformat": 4,
 "nbformat_minor": 2
}
